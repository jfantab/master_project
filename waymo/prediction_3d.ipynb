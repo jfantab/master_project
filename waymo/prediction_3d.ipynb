{
 "cells": [
  {
   "cell_type": "code",
   "execution_count": 1,
   "id": "cf64216d-d71e-44b6-aab6-c4e058c78ccf",
   "metadata": {},
   "outputs": [],
   "source": [
    "import os\n",
    "import json\n",
    "import io\n",
    "import math\n",
    "\n",
    "import numpy as np\n",
    "import pandas as pd\n",
    "import matplotlib.pyplot as plt\n",
    "\n",
    "import pyarrow.parquet as pq"
   ]
  },
  {
   "cell_type": "markdown",
   "id": "0c86d17a-a395-4db0-981f-b16170477ae2",
   "metadata": {},
   "source": [
    "## Constants and Stuff"
   ]
  },
  {
   "cell_type": "code",
   "execution_count": 2,
   "id": "053d1d7c-7346-4548-a239-fe0f1cd482ec",
   "metadata": {},
   "outputs": [],
   "source": [
    "TOP_LEVEL_PREFIX = \"/home/012392471@SJSUAD/master_project/data/waymo\""
   ]
  },
  {
   "cell_type": "code",
   "execution_count": 3,
   "id": "bbcabed4-6325-43f5-9044-ed6f3a7b069a",
   "metadata": {},
   "outputs": [],
   "source": [
    "SPLIT = \"training/\""
   ]
  },
  {
   "cell_type": "code",
   "execution_count": 4,
   "id": "0c17f282-36a9-43ff-985c-494233092eab",
   "metadata": {},
   "outputs": [],
   "source": [
    "LIDAR_PREFIX = os.path.join(TOP_LEVEL_PREFIX, SPLIT, \"lidar\")"
   ]
  },
  {
   "cell_type": "code",
   "execution_count": 5,
   "id": "076214f0-084b-4e60-927d-81dcdfd79a41",
   "metadata": {},
   "outputs": [],
   "source": [
    "LIDAR_BOX_PREFIX = os.path.join(TOP_LEVEL_PREFIX, SPLIT, \"projected_lidar_box\")"
   ]
  },
  {
   "cell_type": "code",
   "execution_count": 6,
   "id": "72e1e22c-fd93-41bc-9cd6-b2baea3d83fe",
   "metadata": {},
   "outputs": [],
   "source": [
    "STATS_PREFIX = os.path.join(TOP_LEVEL_PREFIX, SPLIT, \"stats\")"
   ]
  },
  {
   "cell_type": "code",
   "execution_count": 7,
   "id": "b2d113f3-fb92-4762-b7d5-8701cb0becb8",
   "metadata": {},
   "outputs": [],
   "source": [
    "CUR_INDEX = 0"
   ]
  },
  {
   "cell_type": "markdown",
   "id": "c7ab1b59-1390-4de3-a8d2-1a1f0000de79",
   "metadata": {},
   "source": [
    "## Experimentation"
   ]
  },
  {
   "cell_type": "code",
   "execution_count": 8,
   "id": "5a3a6a3c-5012-4011-9bf6-b4a1d5c24375",
   "metadata": {},
   "outputs": [
    {
     "data": {
      "text/plain": [
       "(995,)"
      ]
     },
     "execution_count": 8,
     "metadata": {},
     "output_type": "execute_result"
    }
   ],
   "source": [
    "scans = os.listdir(LIDAR_PREFIX)\n",
    "test_pq_lidar = os.path.join(LIDAR_PREFIX, scans[0])\n",
    "pq_lidar = pq.read_table(test_pq_lidar)\n",
    "df = pq_lidar.to_pandas()\n",
    "points = df[\"[LiDARComponent].range_image_return1.values\"]"
   ]
  },
  {
   "cell_type": "code",
   "execution_count": 15,
   "id": "747ad078-e02a-4e30-80f8-85dac0eb8dc3",
   "metadata": {},
   "outputs": [
    {
     "data": {
      "text/plain": [
       "(169600, 4)"
      ]
     },
     "execution_count": 15,
     "metadata": {},
     "output_type": "execute_result"
    }
   ],
   "source": [
    "points[0].reshape(-1, 4).shape"
   ]
  },
  {
   "cell_type": "code",
   "execution_count": 16,
   "id": "38b4b13f-4f0d-4cd4-ab6b-78f5fb64e102",
   "metadata": {},
   "outputs": [
    {
     "data": {
      "text/html": [
       "<div>\n",
       "<style scoped>\n",
       "    .dataframe tbody tr th:only-of-type {\n",
       "        vertical-align: middle;\n",
       "    }\n",
       "\n",
       "    .dataframe tbody tr th {\n",
       "        vertical-align: top;\n",
       "    }\n",
       "\n",
       "    .dataframe thead th {\n",
       "        text-align: right;\n",
       "    }\n",
       "</style>\n",
       "<table border=\"1\" class=\"dataframe\">\n",
       "  <thead>\n",
       "    <tr style=\"text-align: right;\">\n",
       "      <th></th>\n",
       "      <th>key.segment_context_name</th>\n",
       "      <th>key.frame_timestamp_micros</th>\n",
       "      <th>key.laser_name</th>\n",
       "      <th>[LiDARComponent].range_image_return1.values</th>\n",
       "      <th>[LiDARComponent].range_image_return1.shape</th>\n",
       "      <th>[LiDARComponent].range_image_return2.values</th>\n",
       "      <th>[LiDARComponent].range_image_return2.shape</th>\n",
       "    </tr>\n",
       "    <tr>\n",
       "      <th>index</th>\n",
       "      <th></th>\n",
       "      <th></th>\n",
       "      <th></th>\n",
       "      <th></th>\n",
       "      <th></th>\n",
       "      <th></th>\n",
       "      <th></th>\n",
       "    </tr>\n",
       "  </thead>\n",
       "  <tbody>\n",
       "    <tr>\n",
       "      <th>10023947602400723454_1120_000_1140_000;1552440195362591</th>\n",
       "      <td>10023947602400723454_1120_000_1140_000</td>\n",
       "      <td>1552440195362591</td>\n",
       "      <td>1</td>\n",
       "      <td>[-1.0, -1.0, -1.0, -1.0, -1.0, -1.0, -1.0, -1....</td>\n",
       "      <td>[64, 2650, 4]</td>\n",
       "      <td>[-1.0, -1.0, -1.0, -1.0, -1.0, -1.0, -1.0, -1....</td>\n",
       "      <td>[64, 2650, 4]</td>\n",
       "    </tr>\n",
       "    <tr>\n",
       "      <th>10023947602400723454_1120_000_1140_000;1552440195362591</th>\n",
       "      <td>10023947602400723454_1120_000_1140_000</td>\n",
       "      <td>1552440195362591</td>\n",
       "      <td>2</td>\n",
       "      <td>[-1.0, -1.0, -1.0, -1.0, -1.0, -1.0, -1.0, -1....</td>\n",
       "      <td>[200, 600, 4]</td>\n",
       "      <td>[-1.0, -1.0, -1.0, -1.0, -1.0, -1.0, -1.0, -1....</td>\n",
       "      <td>[200, 600, 4]</td>\n",
       "    </tr>\n",
       "    <tr>\n",
       "      <th>10023947602400723454_1120_000_1140_000;1552440195362591</th>\n",
       "      <td>10023947602400723454_1120_000_1140_000</td>\n",
       "      <td>1552440195362591</td>\n",
       "      <td>3</td>\n",
       "      <td>[-1.0, -1.0, -1.0, -1.0, -1.0, -1.0, -1.0, -1....</td>\n",
       "      <td>[200, 600, 4]</td>\n",
       "      <td>[-1.0, -1.0, -1.0, -1.0, -1.0, -1.0, -1.0, -1....</td>\n",
       "      <td>[200, 600, 4]</td>\n",
       "    </tr>\n",
       "    <tr>\n",
       "      <th>10023947602400723454_1120_000_1140_000;1552440195362591</th>\n",
       "      <td>10023947602400723454_1120_000_1140_000</td>\n",
       "      <td>1552440195362591</td>\n",
       "      <td>4</td>\n",
       "      <td>[-1.0, -1.0, -1.0, -1.0, -1.0, -1.0, -1.0, -1....</td>\n",
       "      <td>[200, 600, 4]</td>\n",
       "      <td>[-1.0, -1.0, -1.0, -1.0, -1.0, -1.0, -1.0, -1....</td>\n",
       "      <td>[200, 600, 4]</td>\n",
       "    </tr>\n",
       "    <tr>\n",
       "      <th>10023947602400723454_1120_000_1140_000;1552440195362591</th>\n",
       "      <td>10023947602400723454_1120_000_1140_000</td>\n",
       "      <td>1552440195362591</td>\n",
       "      <td>5</td>\n",
       "      <td>[-1.0, -1.0, -1.0, -1.0, -1.0, -1.0, -1.0, -1....</td>\n",
       "      <td>[200, 600, 4]</td>\n",
       "      <td>[-1.0, -1.0, -1.0, -1.0, -1.0, -1.0, -1.0, -1....</td>\n",
       "      <td>[200, 600, 4]</td>\n",
       "    </tr>\n",
       "  </tbody>\n",
       "</table>\n",
       "</div>"
      ],
      "text/plain": [
       "                                                                  key.segment_context_name  \\\n",
       "index                                                                                        \n",
       "10023947602400723454_1120_000_1140_000;15524401...  10023947602400723454_1120_000_1140_000   \n",
       "10023947602400723454_1120_000_1140_000;15524401...  10023947602400723454_1120_000_1140_000   \n",
       "10023947602400723454_1120_000_1140_000;15524401...  10023947602400723454_1120_000_1140_000   \n",
       "10023947602400723454_1120_000_1140_000;15524401...  10023947602400723454_1120_000_1140_000   \n",
       "10023947602400723454_1120_000_1140_000;15524401...  10023947602400723454_1120_000_1140_000   \n",
       "\n",
       "                                                    key.frame_timestamp_micros  \\\n",
       "index                                                                            \n",
       "10023947602400723454_1120_000_1140_000;15524401...            1552440195362591   \n",
       "10023947602400723454_1120_000_1140_000;15524401...            1552440195362591   \n",
       "10023947602400723454_1120_000_1140_000;15524401...            1552440195362591   \n",
       "10023947602400723454_1120_000_1140_000;15524401...            1552440195362591   \n",
       "10023947602400723454_1120_000_1140_000;15524401...            1552440195362591   \n",
       "\n",
       "                                                    key.laser_name  \\\n",
       "index                                                                \n",
       "10023947602400723454_1120_000_1140_000;15524401...               1   \n",
       "10023947602400723454_1120_000_1140_000;15524401...               2   \n",
       "10023947602400723454_1120_000_1140_000;15524401...               3   \n",
       "10023947602400723454_1120_000_1140_000;15524401...               4   \n",
       "10023947602400723454_1120_000_1140_000;15524401...               5   \n",
       "\n",
       "                                                          [LiDARComponent].range_image_return1.values  \\\n",
       "index                                                                                                   \n",
       "10023947602400723454_1120_000_1140_000;15524401...  [-1.0, -1.0, -1.0, -1.0, -1.0, -1.0, -1.0, -1....   \n",
       "10023947602400723454_1120_000_1140_000;15524401...  [-1.0, -1.0, -1.0, -1.0, -1.0, -1.0, -1.0, -1....   \n",
       "10023947602400723454_1120_000_1140_000;15524401...  [-1.0, -1.0, -1.0, -1.0, -1.0, -1.0, -1.0, -1....   \n",
       "10023947602400723454_1120_000_1140_000;15524401...  [-1.0, -1.0, -1.0, -1.0, -1.0, -1.0, -1.0, -1....   \n",
       "10023947602400723454_1120_000_1140_000;15524401...  [-1.0, -1.0, -1.0, -1.0, -1.0, -1.0, -1.0, -1....   \n",
       "\n",
       "                                                   [LiDARComponent].range_image_return1.shape  \\\n",
       "index                                                                                           \n",
       "10023947602400723454_1120_000_1140_000;15524401...                              [64, 2650, 4]   \n",
       "10023947602400723454_1120_000_1140_000;15524401...                              [200, 600, 4]   \n",
       "10023947602400723454_1120_000_1140_000;15524401...                              [200, 600, 4]   \n",
       "10023947602400723454_1120_000_1140_000;15524401...                              [200, 600, 4]   \n",
       "10023947602400723454_1120_000_1140_000;15524401...                              [200, 600, 4]   \n",
       "\n",
       "                                                          [LiDARComponent].range_image_return2.values  \\\n",
       "index                                                                                                   \n",
       "10023947602400723454_1120_000_1140_000;15524401...  [-1.0, -1.0, -1.0, -1.0, -1.0, -1.0, -1.0, -1....   \n",
       "10023947602400723454_1120_000_1140_000;15524401...  [-1.0, -1.0, -1.0, -1.0, -1.0, -1.0, -1.0, -1....   \n",
       "10023947602400723454_1120_000_1140_000;15524401...  [-1.0, -1.0, -1.0, -1.0, -1.0, -1.0, -1.0, -1....   \n",
       "10023947602400723454_1120_000_1140_000;15524401...  [-1.0, -1.0, -1.0, -1.0, -1.0, -1.0, -1.0, -1....   \n",
       "10023947602400723454_1120_000_1140_000;15524401...  [-1.0, -1.0, -1.0, -1.0, -1.0, -1.0, -1.0, -1....   \n",
       "\n",
       "                                                   [LiDARComponent].range_image_return2.shape  \n",
       "index                                                                                          \n",
       "10023947602400723454_1120_000_1140_000;15524401...                              [64, 2650, 4]  \n",
       "10023947602400723454_1120_000_1140_000;15524401...                              [200, 600, 4]  \n",
       "10023947602400723454_1120_000_1140_000;15524401...                              [200, 600, 4]  \n",
       "10023947602400723454_1120_000_1140_000;15524401...                              [200, 600, 4]  \n",
       "10023947602400723454_1120_000_1140_000;15524401...                              [200, 600, 4]  "
      ]
     },
     "execution_count": 16,
     "metadata": {},
     "output_type": "execute_result"
    }
   ],
   "source": [
    "df[df[\"key.frame_timestamp_micros\"] == 1552440195362591]"
   ]
  },
  {
   "cell_type": "code",
   "execution_count": 9,
   "id": "311bdfcd-191b-4cf8-abcc-995d00fd1b57",
   "metadata": {},
   "outputs": [
    {
     "data": {
      "text/plain": [
       "array([  64, 2650,    4], dtype=int32)"
      ]
     },
     "execution_count": 9,
     "metadata": {},
     "output_type": "execute_result"
    }
   ],
   "source": [
    "df[\"[LiDARComponent].range_image_return1.shape\"][0]"
   ]
  },
  {
   "cell_type": "code",
   "execution_count": 17,
   "id": "2f957ae9-bb6b-41b3-875b-ebb275ad6d73",
   "metadata": {},
   "outputs": [
    {
     "data": {
      "text/plain": [
       "169600"
      ]
     },
     "execution_count": 17,
     "metadata": {},
     "output_type": "execute_result"
    }
   ],
   "source": [
    "64 * 2650"
   ]
  },
  {
   "cell_type": "markdown",
   "id": "11e9b3a9-df61-4f06-97d1-a35aef9954a0",
   "metadata": {},
   "source": [
    "## File Loaders"
   ]
  },
  {
   "cell_type": "code",
   "execution_count": 10,
   "id": "b33bf3ab-4b37-48f1-bdfd-29194887d2f7",
   "metadata": {},
   "outputs": [],
   "source": [
    "def load_lidar(index):\n",
    "    images = os.listdir(CAMERA_IMAGE_PREFIX)\n",
    "    pq_lidar = os.path.join(CAMERA_IMAGE_PREFIX, images[index])\n",
    "    print(\"Lidar: \", pq_lidar)\n",
    "    \n",
    "    pq_lidar_table = pq.read_table(pq_lidar)\n",
    "    \n",
    "    df = pq_lidar_table.to_pandas()\n",
    "    return df"
   ]
  },
  {
   "cell_type": "code",
   "execution_count": 12,
   "id": "ebd191c1-5ee2-4b14-9cb7-bdc9d70fac97",
   "metadata": {},
   "outputs": [],
   "source": [
    "def load_annotations(index, timestamp):\n",
    "    labels = os.listdir(LIDAR_BOX_PREFIX)\n",
    "    pq_image_label = os.path.join(LIDAR_BOX_PREFIX, labels[index])\n",
    "    print(\"Annotation: \", pq_image_label)\n",
    "    \n",
    "    pq_label = pq.read_table(pq_image_label)\n",
    "\n",
    "    df = pq_label.to_pandas()\n",
    "    return df.loc[df[\"key.frame_timestamp_micros\"] == timestamp]"
   ]
  },
  {
   "cell_type": "code",
   "execution_count": 13,
   "id": "6efa2d36-5b08-4df5-9d82-ece79ef3e791",
   "metadata": {},
   "outputs": [],
   "source": [
    "def load_stats(index):\n",
    "    stats = os.listdir(STATS_PREFIX)\n",
    "    test_pq_stat_filepath = os.path.join(STATS_PREFIX, stats[index])\n",
    "    print(\"Stats: \", test_pq_stat_filepath)\n",
    "\n",
    "    test_pq_stats = pq.read_table(test_pq_stat_filepath)\n",
    "    df_stats = test_pq_stats.to_pandas()\n",
    "    df_stats.loc[df[\"key.frame_timestamp_micros\"] == timestamp]"
   ]
  },
  {
   "cell_type": "markdown",
   "id": "a0ce95dd-0237-434f-9b1c-cc103017871c",
   "metadata": {},
   "source": [
    "## Loading in Data"
   ]
  },
  {
   "cell_type": "code",
   "execution_count": 16,
   "id": "5fa81079-7070-47bd-868e-7f1cb8bb3929",
   "metadata": {},
   "outputs": [],
   "source": [
    "# TODO"
   ]
  },
  {
   "cell_type": "markdown",
   "id": "6d0e5a9b-8ef2-487c-99dc-dcf45150200c",
   "metadata": {},
   "source": [
    "## Running Predictions"
   ]
  },
  {
   "cell_type": "code",
   "execution_count": null,
   "id": "170941e1-8147-4768-ae79-62835504ddef",
   "metadata": {},
   "outputs": [],
   "source": [
    "# TODO"
   ]
  }
 ],
 "metadata": {
  "kernelspec": {
   "display_name": "project",
   "language": "python",
   "name": "project"
  },
  "language_info": {
   "codemirror_mode": {
    "name": "ipython",
    "version": 3
   },
   "file_extension": ".py",
   "mimetype": "text/x-python",
   "name": "python",
   "nbconvert_exporter": "python",
   "pygments_lexer": "ipython3",
   "version": "3.10.15"
  }
 },
 "nbformat": 4,
 "nbformat_minor": 5
}
