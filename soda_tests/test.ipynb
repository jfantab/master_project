{
 "cells": [
  {
   "cell_type": "code",
   "execution_count": null,
   "id": "89a6cc20-d113-405b-9c26-6f83888313b0",
   "metadata": {},
   "outputs": [],
   "source": [
    "import os\n",
    "import glob\n",
    "import json\n",
    "\n",
    "import numpy as np\n",
    "import pandas as pd\n",
    "import matplotlib.pyplot as plt\n",
    "\n",
    "import cv2\n",
    "from PIL import Image\n",
    "\n",
    "from ultralytics import YOLO"
   ]
  },
  {
   "cell_type": "markdown",
   "id": "44df8c24-2132-4059-90c4-b3c5fe80a8e4",
   "metadata": {},
   "source": [
    "## Constants"
   ]
  },
  {
   "cell_type": "code",
   "execution_count": null,
   "id": "25b6abff-8ac8-491e-9fd2-284a452086ee",
   "metadata": {},
   "outputs": [],
   "source": [
    "%matplotlib inline"
   ]
  },
  {
   "cell_type": "code",
   "execution_count": null,
   "id": "2f6bec71-711f-461c-8da5-ce42bac8b58f",
   "metadata": {},
   "outputs": [],
   "source": [
    "WIDTH = 700"
   ]
  },
  {
   "cell_type": "code",
   "execution_count": null,
   "id": "3ce0fdb1-a917-4d5e-ae81-a597f8a57268",
   "metadata": {},
   "outputs": [],
   "source": [
    "HEIGHT = 500"
   ]
  },
  {
   "cell_type": "code",
   "execution_count": null,
   "id": "6967b140-7d4a-43c9-a01d-7e7996f27721",
   "metadata": {},
   "outputs": [],
   "source": [
    "IMAGE_INDEX = 7"
   ]
  },
  {
   "cell_type": "code",
   "execution_count": null,
   "id": "2eff0e70-d316-4e8e-aade-3e742cb30919",
   "metadata": {},
   "outputs": [],
   "source": [
    "IOU_THRESHOLD = 0.5"
   ]
  },
  {
   "cell_type": "code",
   "execution_count": null,
   "id": "3afa6ce0-a9dd-40fb-a02b-cc2262ae719a",
   "metadata": {},
   "outputs": [],
   "source": [
    "CONF_THRESHOLD = 0.6"
   ]
  },
  {
   "cell_type": "markdown",
   "id": "27073450-6c4a-42f2-854a-4397c02d5d34",
   "metadata": {},
   "source": [
    "## Load Model"
   ]
  },
  {
   "cell_type": "code",
   "execution_count": null,
   "id": "05a8ff0f-b330-4b51-b02d-eafbe9f59584",
   "metadata": {},
   "outputs": [],
   "source": [
    "model = YOLO('~/master_project/weights/yolo11m.pt')"
   ]
  },
  {
   "cell_type": "markdown",
   "id": "cc80051e-2e4c-4591-90cd-545155444013",
   "metadata": {},
   "source": [
    "## Load Dataset"
   ]
  },
  {
   "cell_type": "code",
   "execution_count": null,
   "id": "d72e35e4-ea59-4f98-afcb-910bb30ada35",
   "metadata": {},
   "outputs": [],
   "source": [
    "PREFIX = '../data/SSLAD-2D/labeled/train'\n",
    "ANNOTATIONS_PREFIX = '../data/SSLAD-2D/labeled/annotations'"
   ]
  },
  {
   "cell_type": "code",
   "execution_count": null,
   "id": "b083ba72-f9a3-4033-a052-7085745431f6",
   "metadata": {},
   "outputs": [],
   "source": [
    "files = os.listdir(PREFIX)\n",
    "files[:5]"
   ]
  },
  {
   "cell_type": "code",
   "execution_count": null,
   "id": "2b6deba4-d7f6-40d1-82c8-3948d78c4958",
   "metadata": {},
   "outputs": [],
   "source": [
    "# from IPython.display import Image, display\n",
    "\n",
    "# display(Image(filename=os.path.join(PREFIX, files[0]), width=WIDTH, height=HEIGHT))"
   ]
  },
  {
   "cell_type": "code",
   "execution_count": null,
   "id": "3a13de64-e388-4532-9ad6-308887cfa38a",
   "metadata": {},
   "outputs": [],
   "source": [
    "annos = os.listdir(ANNOTATIONS_PREFIX)"
   ]
  },
  {
   "cell_type": "code",
   "execution_count": null,
   "id": "e6b8e5aa-3ae2-47a4-a6a4-ce3fc931555d",
   "metadata": {},
   "outputs": [],
   "source": [
    "with open(os.path.join(ANNOTATIONS_PREFIX, 'instance_train.json'), 'r') as fp:\n",
    "    train_annos_str = fp.read()"
   ]
  },
  {
   "cell_type": "code",
   "execution_count": null,
   "id": "1f193a48-5e91-47d1-a1b6-b7d1c669695d",
   "metadata": {},
   "outputs": [],
   "source": [
    "train_annos = json.loads(train_annos_str)"
   ]
  },
  {
   "cell_type": "code",
   "execution_count": null,
   "id": "03be9d53-4b2b-4cfc-8f6b-1bff5ed8b626",
   "metadata": {
    "scrolled": true
   },
   "outputs": [],
   "source": [
    "train_annos"
   ]
  },
  {
   "cell_type": "markdown",
   "id": "3f0b6197-3587-49e8-b956-7b62aed11be0",
   "metadata": {},
   "source": [
    "## Predict"
   ]
  },
  {
   "cell_type": "code",
   "execution_count": null,
   "id": "45054af8-23bd-4ff0-bfe1-619472c1419f",
   "metadata": {},
   "outputs": [],
   "source": [
    "test_image_path = os.path.join(PREFIX, files[IMAGE_INDEX])\n",
    "test_image_path"
   ]
  },
  {
   "cell_type": "code",
   "execution_count": null,
   "id": "d5265926-b380-4f60-a344-30d34e52079d",
   "metadata": {},
   "outputs": [],
   "source": [
    "parts = test_image_path.split('_')\n",
    "image_id = int(parts[2].lstrip('0'))\n",
    "image_id"
   ]
  },
  {
   "cell_type": "code",
   "execution_count": null,
   "id": "fbdcdbc5-7b13-4514-83a6-23ba50b34824",
   "metadata": {},
   "outputs": [],
   "source": [
    "im = Image.open(test_image_path)"
   ]
  },
  {
   "cell_type": "code",
   "execution_count": null,
   "id": "99323681-fc7c-440b-bb86-1522b11806e2",
   "metadata": {},
   "outputs": [],
   "source": [
    "np_im = np.array(im)"
   ]
  },
  {
   "cell_type": "code",
   "execution_count": null,
   "id": "cf0f049a-5d13-4b0a-a1f7-c2e5aabb7a47",
   "metadata": {},
   "outputs": [],
   "source": [
    "results = model(test_image_path)"
   ]
  },
  {
   "cell_type": "code",
   "execution_count": null,
   "id": "ff8deb4f-ebca-4fd4-858f-0b7b8cade276",
   "metadata": {},
   "outputs": [],
   "source": [
    "for box in results[0].boxes:\n",
    "    print(box.xyxy.tolist()[0])\n",
    "    x1, y1, x2, y2 = map(int, box.xyxy.tolist()[0])\n",
    "    class_id = int(box.cls)\n",
    "    class_name = results[0].names[class_id]\n",
    "    confidence = box.conf.item()\n",
    "    \n",
    "    # Draw rectangle and label on the frame\n",
    "    cv2.rectangle(np_im, (x1, y1), (x2, y2), (0, 255, 0), 2)\n",
    "    label = f\"{class_name}: {confidence:.2f}\"\n",
    "    cv2.putText(np_im, label, (x1, y1 - 10), cv2.FONT_HERSHEY_SIMPLEX, 0.5, (0, 255, 0), 2)"
   ]
  },
  {
   "cell_type": "code",
   "execution_count": null,
   "id": "e4f5a6b4-9a40-4705-912d-6b59915df7e5",
   "metadata": {},
   "outputs": [],
   "source": [
    "plt.figure(figsize=(10,15))\n",
    "plt.imshow(np_im)"
   ]
  },
  {
   "cell_type": "code",
   "execution_count": null,
   "id": "145ff737-a9ce-40a5-97d7-9a94bed3a79b",
   "metadata": {},
   "outputs": [],
   "source": [
    "im2 = Image.open(test_image_path)\n",
    "np_im2 = np.array(im2)"
   ]
  },
  {
   "cell_type": "code",
   "execution_count": null,
   "id": "31fb93c3-a20e-41dd-83ff-bd6260881f67",
   "metadata": {},
   "outputs": [],
   "source": [
    "for ann in train_annos['annotations']:\n",
    "    if(ann['image_id'] == image_id):\n",
    "        print(ann)\n",
    "\n",
    "        bbox = ann['bbox'] # x, y, w, h\n",
    "\n",
    "        x1, y1, w, h = bbox\n",
    "\n",
    "        x2, y2 = x1 + w, y1 + h\n",
    "        \n",
    "        cv2.rectangle(np_im2, (x1, y1), (x2, y2), (0, 255, 0), 2)\n",
    "        label = f\"{class_name}\"\n",
    "        cv2.putText(np_im2, label, (x1, y1 - 10), cv2.FONT_HERSHEY_SIMPLEX, 0.5, (0, 255, 0), 2)"
   ]
  },
  {
   "cell_type": "code",
   "execution_count": null,
   "id": "cda16111-39e2-40c7-ab32-fd025586c5c0",
   "metadata": {},
   "outputs": [],
   "source": [
    "plt.figure(figsize=(10,15))\n",
    "plt.imshow(np_im2)"
   ]
  },
  {
   "cell_type": "code",
   "execution_count": null,
   "id": "da7f9016-7418-40f4-a8cd-fc8c372276e3",
   "metadata": {},
   "outputs": [],
   "source": []
  }
 ],
 "metadata": {
  "kernelspec": {
   "display_name": "Python 3 (ipykernel)",
   "language": "python",
   "name": "python3"
  },
  "language_info": {
   "codemirror_mode": {
    "name": "ipython",
    "version": 3
   },
   "file_extension": ".py",
   "mimetype": "text/x-python",
   "name": "python",
   "nbconvert_exporter": "python",
   "pygments_lexer": "ipython3",
   "version": "3.10.15"
  }
 },
 "nbformat": 4,
 "nbformat_minor": 5
}
