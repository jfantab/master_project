{
 "cells": [
  {
   "cell_type": "code",
   "execution_count": 8,
   "id": "3635b65f-614a-4040-8271-1c07bae6ee9b",
   "metadata": {},
   "outputs": [],
   "source": [
    "# %pip install nuscenes-devkit"
   ]
  },
  {
   "cell_type": "code",
   "execution_count": 69,
   "id": "527b2462-b804-44ed-a305-1a5617c39b51",
   "metadata": {},
   "outputs": [],
   "source": [
    "import os\n",
    "import json\n",
    "\n",
    "import torch\n",
    "import numpy as np \n",
    "import pandas as pd\n",
    "import matplotlib.pyplot as plt\n",
    "\n",
    "import cv2\n",
    "from PIL import Image\n",
    "\n",
    "from ultralytics import YOLO\n",
    "\n",
    "from nuscenes.nuscenes import NuScenes\n",
    "from nuscenes.utils.data_classes import RadarPointCloud\n",
    "from nuscenes.eval.detection.evaluate import NuScenesEval\n",
    "from nuscenes.eval.detection.data_classes import DetectionConfig\n",
    "from nuscenes.eval.prediction.splits import get_prediction_challenge_split\n",
    "from nuscenes.prediction import PredictHelper"
   ]
  },
  {
   "cell_type": "markdown",
   "id": "c9aadd00-73a5-4614-b708-1073954b7357",
   "metadata": {},
   "source": [
    "## Load Model and Dataset"
   ]
  },
  {
   "cell_type": "code",
   "execution_count": 10,
   "id": "b74b868f-3817-410c-a65c-25921425eeda",
   "metadata": {},
   "outputs": [],
   "source": [
    "model = YOLO('weights/yolov9t.pt')"
   ]
  },
  {
   "cell_type": "code",
   "execution_count": 78,
   "id": "04d50eaf-476e-4f36-93a8-d07995a8a860",
   "metadata": {},
   "outputs": [],
   "source": [
    "DATAROOT = '../data/nuscenes'"
   ]
  },
  {
   "cell_type": "code",
   "execution_count": 79,
   "id": "ff076cdc-2040-42cf-ba5f-4a5af0e1c831",
   "metadata": {},
   "outputs": [
    {
     "name": "stdout",
     "output_type": "stream",
     "text": [
      "======\n",
      "Loading NuScenes tables for version v1.0-mini...\n",
      "23 category,\n",
      "8 attribute,\n",
      "4 visibility,\n",
      "911 instance,\n",
      "12 sensor,\n",
      "120 calibrated_sensor,\n",
      "31206 ego_pose,\n",
      "8 log,\n",
      "10 scene,\n",
      "404 sample,\n",
      "31206 sample_data,\n",
      "18538 sample_annotation,\n",
      "4 map,\n",
      "Done loading in 0.316 seconds.\n",
      "======\n",
      "Reverse indexing ...\n",
      "Done reverse indexing in 0.1 seconds.\n",
      "======\n"
     ]
    }
   ],
   "source": [
    "nusc = NuScenes(version='v1.0-mini', dataroot=DATAROOT, verbose=True)"
   ]
  },
  {
   "cell_type": "code",
   "execution_count": 82,
   "id": "89317b8d-ac05-4a17-ba01-8b96568a7f21",
   "metadata": {},
   "outputs": [],
   "source": [
    "# mini_pred = get_prediction_challenge_split(\"mini_train\", dataroot=DATAROOT)"
   ]
  },
  {
   "cell_type": "code",
   "execution_count": 13,
   "id": "5fd0feb4-7cf5-46bc-a003-d43925b413a7",
   "metadata": {},
   "outputs": [],
   "source": [
    "helper = PredictHelper(nusc)"
   ]
  },
  {
   "cell_type": "markdown",
   "id": "15018508-a033-46fb-8a75-2a5a0b7b76c5",
   "metadata": {},
   "source": [
    "## Perform Predictions"
   ]
  },
  {
   "cell_type": "code",
   "execution_count": 14,
   "id": "9296997a-96c4-4d09-bae2-82022e0a8e32",
   "metadata": {},
   "outputs": [],
   "source": [
    "IOU_THRESHOLD = 0.6\n",
    "CONFIDENCE_THRESHOLD = 0.4"
   ]
  },
  {
   "cell_type": "code",
   "execution_count": 15,
   "id": "60ce2529-9ec5-4571-b5ec-5df71254fd15",
   "metadata": {},
   "outputs": [],
   "source": [
    "START_INDEX = 0\n",
    "END_INDEX = 3"
   ]
  },
  {
   "cell_type": "code",
   "execution_count": 16,
   "id": "37e0e51f-8b00-46a7-8fad-d404b4c4f6c1",
   "metadata": {},
   "outputs": [],
   "source": [
    "sensor = 'CAM_FRONT'"
   ]
  },
  {
   "cell_type": "code",
   "execution_count": 56,
   "id": "3eb5e0e9-d3a7-40be-95e1-6706062541ff",
   "metadata": {},
   "outputs": [
    {
     "name": "stdout",
     "output_type": "stream",
     "text": [
      "\n",
      "image 1/1 /home/012392471@SJSUAD/master_project/nuscenes_tests/../data/nuscenes/samples/CAM_FRONT/n015-2018-07-24-11-22-45+0800__CAM_FRONT__1532402927612460.jpg: 384x640 3 cars, 1 truck, 40.0ms\n",
      "Speed: 1.3ms preprocess, 40.0ms inference, 0.5ms postprocess per image at shape (1, 3, 384, 640)\n",
      "===================================================\n",
      "\n",
      "image 1/1 /home/012392471@SJSUAD/master_project/nuscenes_tests/../data/nuscenes/samples/CAM_FRONT/n008-2018-08-01-15-16-36-0400__CAM_FRONT__1533151603512404.jpg: 384x640 3 persons, 5 cars, 1 traffic light, 40.1ms\n",
      "Speed: 1.2ms preprocess, 40.1ms inference, 0.5ms postprocess per image at shape (1, 3, 384, 640)\n",
      "===================================================\n",
      "\n",
      "image 1/1 /home/012392471@SJSUAD/master_project/nuscenes_tests/../data/nuscenes/samples/CAM_FRONT/n008-2018-08-28-16-43-51-0400__CAM_FRONT__1535489296012404.jpg: 384x640 1 person, 1 bicycle, 4 traffic lights, 39.6ms\n",
      "Speed: 1.2ms preprocess, 39.6ms inference, 0.5ms postprocess per image at shape (1, 3, 384, 640)\n",
      "===================================================\n"
     ]
    }
   ],
   "source": [
    "prediction_results = {\n",
    "    \"meta\": {\n",
    "        \"use_camera\": True,\n",
    "        \"use_lidar\": False,\n",
    "        \"use_radar\": False,\n",
    "        \"use_map\": False, \n",
    "        \"use_external\": False \n",
    "    },\n",
    "    \"results\": {}\n",
    "}\n",
    "for i in range(START_INDEX, END_INDEX):\n",
    "    test_scene = nusc.scene[i]\n",
    "    first_sample_token = test_scene['first_sample_token']\n",
    "    my_sample = nusc.get('sample', first_sample_token)\n",
    "    cam_front_data = nusc.get('sample_data', my_sample['data'][sensor])\n",
    "\n",
    "    radar_front_data = nusc.get('sample_data', my_sample['data']['RADAR_FRONT'])\n",
    "    pc = RadarPointCloud.from_file(os.path.join(DATAROOT, radar_front_data[\"filename\"]))\n",
    "    data = pc.points.astype(dtype=np.float32).T\n",
    "    \n",
    "    image_path = os.path.join(nusc.dataroot, cam_front_data['filename'])\n",
    "    results = model(image_path, conf=CONFIDENCE_THRESHOLD, iou=IOU_THRESHOLD)\n",
    "\n",
    "    # dict_key = f\"sample_token_{i+1}\"\n",
    "    dict_key = f\"{first_sample_token}\"\n",
    "    arr = []\n",
    "\n",
    "    for (object_index, box) in enumerate(results[0].boxes):\n",
    "        x1, y1, x2, y2 = map(int, box.xyxy.tolist()[0])\n",
    "        class_id = int(box.cls)\n",
    "        class_name = results[0].names[class_id]\n",
    "        confidence = box.conf.item()\n",
    "        \n",
    "        my_annotation_token = my_sample['anns'][object_index]\n",
    "        my_annotation_metadata =  nusc.get('sample_annotation', my_annotation_token)\n",
    "        \n",
    "        attr = nusc.get('attribute', my_annotation_metadata['attribute_tokens'][0])['name']\n",
    "        name = attr.split('.')[0]\n",
    "\n",
    "        instance_token = my_annotation_metadata[\"instance_token\"]\n",
    "        instance = nusc.get('instance', instance_token)\n",
    "        category = nusc.get('category', instance['category_token'])\n",
    "        detection_name = category[\"name\"].split('.')[1]\n",
    "        \n",
    "        velocity = data[object_index][7:9].tolist()\n",
    "        \n",
    "        prediction_object = {\n",
    "            'sample_token': first_sample_token,\n",
    "            'translation': my_annotation_metadata[\"translation\"],  # Center of 3D box\n",
    "            'size': my_annotation_metadata[\"size\"],  # Dimensions of 3D box\n",
    "            'rotation': my_annotation_metadata[\"rotation\"],  # Rotation as quaternion\n",
    "            'velocity': velocity,\n",
    "            'detection_name': detection_name,  # e.g., 'car', 'pedestrian'\n",
    "            'detection_score': confidence,  # Between 0 and 1\n",
    "            'attribute_name': attr\n",
    "        }\n",
    "\n",
    "        arr.append(prediction_object)\n",
    "\n",
    "    prediction_results[\"results\"][dict_key] = arr\n",
    "\n",
    "    print(\"===================================================\")"
   ]
  },
  {
   "cell_type": "code",
   "execution_count": 58,
   "id": "3a609bc3-d95b-44a7-9356-0bb703f07e43",
   "metadata": {},
   "outputs": [],
   "source": [
    "with open('results.json', 'w') as fp:\n",
    "    json.dump(prediction_results, fp)"
   ]
  },
  {
   "cell_type": "markdown",
   "id": "fbecf8b9-5518-4314-b753-442592484fe5",
   "metadata": {},
   "source": [
    "## Perform Evaluation"
   ]
  },
  {
   "cell_type": "code",
   "execution_count": 59,
   "id": "dd15ba21-15c4-47d7-8982-ecde21960c00",
   "metadata": {},
   "outputs": [],
   "source": [
    "with open('detection_cvpr_2019.json', 'r') as fp:\n",
    "    config_str = json.load(fp)"
   ]
  },
  {
   "cell_type": "code",
   "execution_count": 60,
   "id": "14b4d572-f85c-4f0f-b1c8-56699ab99fee",
   "metadata": {},
   "outputs": [],
   "source": [
    "detection_config = DetectionConfig(\n",
    "    class_range = config_str[\"class_range\"],\n",
    "    dist_fcn = config_str[\"dist_fcn\"],\n",
    "    dist_ths = config_str[\"dist_ths\"],\n",
    "    dist_th_tp = config_str[\"dist_th_tp\"],\n",
    "    min_recall = config_str[\"min_recall\"],\n",
    "    min_precision = config_str[\"min_precision\"],\n",
    "    max_boxes_per_sample = config_str[\"max_boxes_per_sample\"],\n",
    "    mean_ap_weight = config_str[\"mean_ap_weight\"]\n",
    ")"
   ]
  },
  {
   "cell_type": "code",
   "execution_count": 61,
   "id": "b4b8a85e-464b-4010-869d-5d785ea5e523",
   "metadata": {},
   "outputs": [],
   "source": [
    "# dot notation didn't work because you can't use dot \n",
    "#    on dictionaries only objects"
   ]
  },
  {
   "cell_type": "code",
   "execution_count": 66,
   "id": "ddc3f885-027c-4c15-8857-dfed83cd01fd",
   "metadata": {},
   "outputs": [
    {
     "name": "stdout",
     "output_type": "stream",
     "text": [
      "Initializing nuScenes detection evaluation\n",
      "Loaded results from results.json. Found detections for 3 samples.\n",
      "Loading annotations for val split from nuScenes version: v1.0-mini\n"
     ]
    },
    {
     "ename": "AssertionError",
     "evalue": "Error: Requested split val which is not compatible with NuScenes version v1.0-mini",
     "output_type": "error",
     "traceback": [
      "\u001b[0;31m---------------------------------------------------------------------------\u001b[0m",
      "\u001b[0;31mAssertionError\u001b[0m                            Traceback (most recent call last)",
      "Cell \u001b[0;32mIn[66], line 1\u001b[0m\n\u001b[0;32m----> 1\u001b[0m evaluator \u001b[38;5;241m=\u001b[39m \u001b[43mNuScenesEval\u001b[49m\u001b[43m(\u001b[49m\u001b[43mnusc\u001b[49m\u001b[43m,\u001b[49m\u001b[43m \u001b[49m\n\u001b[1;32m      2\u001b[0m \u001b[43m                         \u001b[49m\u001b[43mconfig\u001b[49m\u001b[38;5;241;43m=\u001b[39;49m\u001b[43mdetection_config\u001b[49m\u001b[43m,\u001b[49m\n\u001b[1;32m      3\u001b[0m \u001b[43m                         \u001b[49m\u001b[43meval_set\u001b[49m\u001b[38;5;241;43m=\u001b[39;49m\u001b[38;5;124;43m'\u001b[39;49m\u001b[38;5;124;43mval\u001b[39;49m\u001b[38;5;124;43m'\u001b[39;49m\u001b[43m,\u001b[49m\u001b[43m \u001b[49m\n\u001b[1;32m      4\u001b[0m \u001b[43m                         \u001b[49m\u001b[43mresult_path\u001b[49m\u001b[38;5;241;43m=\u001b[39;49m\u001b[38;5;124;43m\"\u001b[39;49m\u001b[38;5;124;43mresults.json\u001b[39;49m\u001b[38;5;124;43m\"\u001b[39;49m\u001b[43m,\u001b[49m\u001b[43m \u001b[49m\n\u001b[1;32m      5\u001b[0m \u001b[43m                         \u001b[49m\u001b[43moutput_dir\u001b[49m\u001b[38;5;241;43m=\u001b[39;49m\u001b[38;5;124;43m'\u001b[39;49m\u001b[38;5;124;43moutputs/\u001b[39;49m\u001b[38;5;124;43m'\u001b[39;49m\u001b[43m)\u001b[49m\n",
      "File \u001b[0;32m~/.local/lib/python3.8/site-packages/nuscenes/eval/detection/evaluate.py:82\u001b[0m, in \u001b[0;36mDetectionEval.__init__\u001b[0;34m(self, nusc, config, result_path, eval_set, output_dir, verbose)\u001b[0m\n\u001b[1;32m     79\u001b[0m     \u001b[38;5;28mprint\u001b[39m(\u001b[38;5;124m'\u001b[39m\u001b[38;5;124mInitializing nuScenes detection evaluation\u001b[39m\u001b[38;5;124m'\u001b[39m)\n\u001b[1;32m     80\u001b[0m \u001b[38;5;28mself\u001b[39m\u001b[38;5;241m.\u001b[39mpred_boxes, \u001b[38;5;28mself\u001b[39m\u001b[38;5;241m.\u001b[39mmeta \u001b[38;5;241m=\u001b[39m load_prediction(\u001b[38;5;28mself\u001b[39m\u001b[38;5;241m.\u001b[39mresult_path, \u001b[38;5;28mself\u001b[39m\u001b[38;5;241m.\u001b[39mcfg\u001b[38;5;241m.\u001b[39mmax_boxes_per_sample, DetectionBox,\n\u001b[1;32m     81\u001b[0m                                              verbose\u001b[38;5;241m=\u001b[39mverbose)\n\u001b[0;32m---> 82\u001b[0m \u001b[38;5;28mself\u001b[39m\u001b[38;5;241m.\u001b[39mgt_boxes \u001b[38;5;241m=\u001b[39m \u001b[43mload_gt\u001b[49m\u001b[43m(\u001b[49m\u001b[38;5;28;43mself\u001b[39;49m\u001b[38;5;241;43m.\u001b[39;49m\u001b[43mnusc\u001b[49m\u001b[43m,\u001b[49m\u001b[43m \u001b[49m\u001b[38;5;28;43mself\u001b[39;49m\u001b[38;5;241;43m.\u001b[39;49m\u001b[43meval_set\u001b[49m\u001b[43m,\u001b[49m\u001b[43m \u001b[49m\u001b[43mDetectionBox\u001b[49m\u001b[43m,\u001b[49m\u001b[43m \u001b[49m\u001b[43mverbose\u001b[49m\u001b[38;5;241;43m=\u001b[39;49m\u001b[43mverbose\u001b[49m\u001b[43m)\u001b[49m\n\u001b[1;32m     84\u001b[0m \u001b[38;5;28;01massert\u001b[39;00m \u001b[38;5;28mset\u001b[39m(\u001b[38;5;28mself\u001b[39m\u001b[38;5;241m.\u001b[39mpred_boxes\u001b[38;5;241m.\u001b[39msample_tokens) \u001b[38;5;241m==\u001b[39m \u001b[38;5;28mset\u001b[39m(\u001b[38;5;28mself\u001b[39m\u001b[38;5;241m.\u001b[39mgt_boxes\u001b[38;5;241m.\u001b[39msample_tokens), \\\n\u001b[1;32m     85\u001b[0m     \u001b[38;5;124m\"\u001b[39m\u001b[38;5;124mSamples in split doesn\u001b[39m\u001b[38;5;124m'\u001b[39m\u001b[38;5;124mt match samples in predictions.\u001b[39m\u001b[38;5;124m\"\u001b[39m\n\u001b[1;32m     87\u001b[0m \u001b[38;5;66;03m# Add center distances.\u001b[39;00m\n",
      "File \u001b[0;32m~/.local/lib/python3.8/site-packages/nuscenes/eval/common/loaders.py:78\u001b[0m, in \u001b[0;36mload_gt\u001b[0;34m(nusc, eval_split, box_cls, verbose)\u001b[0m\n\u001b[1;32m     76\u001b[0m version \u001b[38;5;241m=\u001b[39m nusc\u001b[38;5;241m.\u001b[39mversion\n\u001b[1;32m     77\u001b[0m \u001b[38;5;28;01mif\u001b[39;00m eval_split \u001b[38;5;129;01min\u001b[39;00m {\u001b[38;5;124m'\u001b[39m\u001b[38;5;124mtrain\u001b[39m\u001b[38;5;124m'\u001b[39m, \u001b[38;5;124m'\u001b[39m\u001b[38;5;124mval\u001b[39m\u001b[38;5;124m'\u001b[39m, \u001b[38;5;124m'\u001b[39m\u001b[38;5;124mtrain_detect\u001b[39m\u001b[38;5;124m'\u001b[39m, \u001b[38;5;124m'\u001b[39m\u001b[38;5;124mtrain_track\u001b[39m\u001b[38;5;124m'\u001b[39m}:\n\u001b[0;32m---> 78\u001b[0m     \u001b[38;5;28;01massert\u001b[39;00m version\u001b[38;5;241m.\u001b[39mendswith(\u001b[38;5;124m'\u001b[39m\u001b[38;5;124mtrainval\u001b[39m\u001b[38;5;124m'\u001b[39m), \\\n\u001b[1;32m     79\u001b[0m         \u001b[38;5;124m'\u001b[39m\u001b[38;5;124mError: Requested split \u001b[39m\u001b[38;5;132;01m{}\u001b[39;00m\u001b[38;5;124m which is not compatible with NuScenes version \u001b[39m\u001b[38;5;132;01m{}\u001b[39;00m\u001b[38;5;124m'\u001b[39m\u001b[38;5;241m.\u001b[39mformat(eval_split, version)\n\u001b[1;32m     80\u001b[0m \u001b[38;5;28;01melif\u001b[39;00m eval_split \u001b[38;5;129;01min\u001b[39;00m {\u001b[38;5;124m'\u001b[39m\u001b[38;5;124mmini_train\u001b[39m\u001b[38;5;124m'\u001b[39m, \u001b[38;5;124m'\u001b[39m\u001b[38;5;124mmini_val\u001b[39m\u001b[38;5;124m'\u001b[39m}:\n\u001b[1;32m     81\u001b[0m     \u001b[38;5;28;01massert\u001b[39;00m version\u001b[38;5;241m.\u001b[39mendswith(\u001b[38;5;124m'\u001b[39m\u001b[38;5;124mmini\u001b[39m\u001b[38;5;124m'\u001b[39m), \\\n\u001b[1;32m     82\u001b[0m         \u001b[38;5;124m'\u001b[39m\u001b[38;5;124mError: Requested split \u001b[39m\u001b[38;5;132;01m{}\u001b[39;00m\u001b[38;5;124m which is not compatible with NuScenes version \u001b[39m\u001b[38;5;132;01m{}\u001b[39;00m\u001b[38;5;124m'\u001b[39m\u001b[38;5;241m.\u001b[39mformat(eval_split, version)\n",
      "\u001b[0;31mAssertionError\u001b[0m: Error: Requested split val which is not compatible with NuScenes version v1.0-mini"
     ]
    }
   ],
   "source": [
    "evaluator = NuScenesEval(nusc, \n",
    "                         config=detection_config,\n",
    "                         eval_set='val', \n",
    "                         result_path=\"results.json\", \n",
    "                         output_dir='outputs/')"
   ]
  },
  {
   "cell_type": "code",
   "execution_count": null,
   "id": "dd78ffa8-f096-4664-87fe-f38ee196b53b",
   "metadata": {},
   "outputs": [],
   "source": []
  }
 ],
 "metadata": {
  "kernelspec": {
   "display_name": "project",
   "language": "python",
   "name": "project"
  },
  "language_info": {
   "codemirror_mode": {
    "name": "ipython",
    "version": 3
   },
   "file_extension": ".py",
   "mimetype": "text/x-python",
   "name": "python",
   "nbconvert_exporter": "python",
   "pygments_lexer": "ipython3",
   "version": "3.8.10"
  }
 },
 "nbformat": 4,
 "nbformat_minor": 5
}
