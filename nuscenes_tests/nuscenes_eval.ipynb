{
 "cells": [
  {
   "cell_type": "code",
   "execution_count": 26,
   "id": "3635b65f-614a-4040-8271-1c07bae6ee9b",
   "metadata": {},
   "outputs": [],
   "source": [
    "# %pip install nuscenes-devkit"
   ]
  },
  {
   "cell_type": "code",
   "execution_count": 27,
   "id": "3eb27a9c-de1c-4b0e-9f3d-dd4b550e33c8",
   "metadata": {},
   "outputs": [],
   "source": [
    "# %pip install \"numpy<2\""
   ]
  },
  {
   "cell_type": "code",
   "execution_count": 28,
   "id": "550c5b4a-d031-44f7-8fb1-06c0ed2d9d2e",
   "metadata": {},
   "outputs": [],
   "source": [
    "# %pip install plotly"
   ]
  },
  {
   "cell_type": "code",
   "execution_count": 29,
   "id": "527b2462-b804-44ed-a305-1a5617c39b51",
   "metadata": {},
   "outputs": [],
   "source": [
    "import os\n",
    "import json\n",
    "import math\n",
    "\n",
    "import torch\n",
    "\n",
    "import numpy as np \n",
    "import pandas as pd\n",
    "import matplotlib.pyplot as plt\n",
    "\n",
    "import mmcv\n",
    "from mmdet3d.apis import init_model, inference_detector\n",
    "\n",
    "import cv2\n",
    "from PIL import Image\n",
    "\n",
    "from nuscenes.nuscenes import NuScenes\n",
    "from nuscenes.utils.data_classes import RadarPointCloud\n",
    "from nuscenes.eval.detection.evaluate import NuScenesEval\n",
    "from nuscenes.eval.detection.data_classes import DetectionConfig\n",
    "from nuscenes.prediction import PredictHelper\n",
    "from nuscenes.utils.splits import create_splits_scenes\n",
    "\n",
    "# import open3d as o3d\n",
    "# from open3d.j_visualizer import JVisualizer"
   ]
  },
  {
   "cell_type": "code",
   "execution_count": 30,
   "id": "3a692b90-d4c2-450a-a09d-020c79f36ef1",
   "metadata": {},
   "outputs": [],
   "source": [
    "%matplotlib inline"
   ]
  },
  {
   "cell_type": "markdown",
   "id": "c9aadd00-73a5-4614-b708-1073954b7357",
   "metadata": {},
   "source": [
    "## Load Model"
   ]
  },
  {
   "cell_type": "code",
   "execution_count": null,
   "id": "c140e4ff-64ad-4336-948c-a847465adc25",
   "metadata": {},
   "outputs": [],
   "source": [
    "# Add data loader commands"
   ]
  },
  {
   "cell_type": "code",
   "execution_count": 31,
   "id": "9d61dbb5-e0b8-4062-b30d-da0bce302976",
   "metadata": {},
   "outputs": [],
   "source": [
    "cfg_file = \"pointpillars_hv_secfpn_sbn-all_8xb4-2x_nus-3d.py\""
   ]
  },
  {
   "cell_type": "code",
   "execution_count": 32,
   "id": "c04a090d-4f46-48d8-a8a9-9ad7484601be",
   "metadata": {},
   "outputs": [],
   "source": [
    "ckpt_file = \"hv_pointpillars_secfpn_sbn-all_4x8_2x_nus-3d_20210826_225857-f19d00a3.pth\""
   ]
  },
  {
   "cell_type": "code",
   "execution_count": 33,
   "id": "5e8b219c-c45b-496a-8275-bfc12265edab",
   "metadata": {
    "scrolled": true
   },
   "outputs": [
    {
     "name": "stdout",
     "output_type": "stream",
     "text": [
      "Loads checkpoint by local backend from path: hv_pointpillars_secfpn_sbn-all_4x8_2x_nus-3d_20210826_225857-f19d00a3.pth\n"
     ]
    },
    {
     "name": "stderr",
     "output_type": "stream",
     "text": [
      "/home/012392471@SJSUAD/master_project/mmdetection3d/mmdet3d/models/dense_heads/anchor3d_head.py:94: UserWarning: dir_offset and dir_limit_offset will be depressed and be incorporated into box coder in the future\n",
      "  warnings.warn(\n",
      "/home/012392471@SJSUAD/anaconda3/envs/project/lib/python3.10/site-packages/mmengine/runner/checkpoint.py:347: FutureWarning: You are using `torch.load` with `weights_only=False` (the current default value), which uses the default pickle module implicitly. It is possible to construct malicious pickle data which will execute arbitrary code during unpickling (See https://github.com/pytorch/pytorch/blob/main/SECURITY.md#untrusted-models for more details). In a future release, the default value for `weights_only` will be flipped to `True`. This limits the functions that could be executed during unpickling. Arbitrary objects will no longer be allowed to be loaded via this mode unless they are explicitly allowlisted by the user via `torch.serialization.add_safe_globals`. We recommend you start setting `weights_only=True` for any use case where you don't have full control of the loaded file. Please open an issue on GitHub for any issues related to this experimental feature.\n",
      "  checkpoint = torch.load(filename, map_location=map_location)\n"
     ]
    }
   ],
   "source": [
    "model = init_model(cfg_file, ckpt_file, device='cuda:0')"
   ]
  },
  {
   "cell_type": "markdown",
   "id": "710cbf8f-2f7d-472f-9fa1-63481749144f",
   "metadata": {},
   "source": [
    "## Load Dataset"
   ]
  },
  {
   "cell_type": "code",
   "execution_count": 34,
   "id": "04d50eaf-476e-4f36-93a8-d07995a8a860",
   "metadata": {},
   "outputs": [],
   "source": [
    "# DATAROOT = '/home/012392471@SJSUAD/master_project/data/nuscenes'"
   ]
  },
  {
   "cell_type": "code",
   "execution_count": 35,
   "id": "73479466-4b5b-4f11-9555-a70805a71c66",
   "metadata": {},
   "outputs": [],
   "source": [
    "DATAROOT = '/home/012392471@SJSUAD/master_project/data/nuscenes_mini'"
   ]
  },
  {
   "cell_type": "code",
   "execution_count": 36,
   "id": "ff076cdc-2040-42cf-ba5f-4a5af0e1c831",
   "metadata": {},
   "outputs": [
    {
     "name": "stdout",
     "output_type": "stream",
     "text": [
      "======\n",
      "Loading NuScenes tables for version v1.0-mini...\n",
      "23 category,\n",
      "8 attribute,\n",
      "4 visibility,\n",
      "911 instance,\n",
      "12 sensor,\n",
      "120 calibrated_sensor,\n",
      "31206 ego_pose,\n",
      "8 log,\n",
      "10 scene,\n",
      "404 sample,\n",
      "31206 sample_data,\n",
      "18538 sample_annotation,\n",
      "4 map,\n",
      "Done loading in 0.346 seconds.\n",
      "======\n",
      "Reverse indexing ...\n",
      "Done reverse indexing in 0.1 seconds.\n",
      "======\n"
     ]
    }
   ],
   "source": [
    "# nusc = NuScenes(version='v1.0-trainval', dataroot=DATAROOT, verbose=True)\n",
    "nusc = NuScenes(version='v1.0-mini', dataroot=DATAROOT, verbose=True)"
   ]
  },
  {
   "cell_type": "code",
   "execution_count": 37,
   "id": "5fd0feb4-7cf5-46bc-a003-d43925b413a7",
   "metadata": {},
   "outputs": [],
   "source": [
    "helper = PredictHelper(nusc)"
   ]
  },
  {
   "cell_type": "code",
   "execution_count": 38,
   "id": "72fdbd21-4266-4cbf-b752-fb286f39fdb0",
   "metadata": {},
   "outputs": [
    {
     "name": "stdout",
     "output_type": "stream",
     "text": [
      "scene-0061, Parked truck, construction, intersectio... [18-07-24 03:28:47]   19s, singapore-onenorth, #anns:4622\n",
      "scene-0103, Many peds right, wait for turning car, ... [18-08-01 19:26:43]   19s, boston-seaport, #anns:2046\n",
      "scene-0655, Parking lot, parked cars, jaywalker, be... [18-08-27 15:51:32]   20s, boston-seaport, #anns:2332\n",
      "scene-0553, Wait at intersection, bicycle, large tr... [18-08-28 20:48:16]   20s, boston-seaport, #anns:1950\n",
      "scene-0757, Arrive at busy intersection, bus, wait ... [18-08-30 19:25:08]   20s, boston-seaport, #anns:592\n",
      "scene-0796, Scooter, peds on sidewalk, bus, cars, t... [18-10-02 02:52:24]   20s, singapore-queensto, #anns:708\n",
      "scene-0916, Parking lot, bicycle rack, parked bicyc... [18-10-08 07:37:13]   20s, singapore-queensto, #anns:2387\n",
      "scene-1077, Night, big street, bus stop, high speed... [18-11-21 11:39:27]   20s, singapore-hollandv, #anns:890\n",
      "scene-1094, Night, after rain, many peds, PMD, ped ... [18-11-21 11:47:27]   19s, singapore-hollandv, #anns:1762\n",
      "scene-1100, Night, peds in sidewalk, peds cross cro... [18-11-21 11:49:47]   19s, singapore-hollandv, #anns:935\n"
     ]
    }
   ],
   "source": [
    "nusc.list_scenes()"
   ]
  },
  {
   "cell_type": "code",
   "execution_count": 51,
   "id": "91e8a968-a0c3-4f50-884e-afe68d88d877",
   "metadata": {
    "scrolled": true
   },
   "outputs": [],
   "source": [
    "scene_splits = create_splits_scenes()"
   ]
  },
  {
   "cell_type": "code",
   "execution_count": 40,
   "id": "8cac346f-1bd3-4bc1-a778-8d85044f7bfd",
   "metadata": {},
   "outputs": [
    {
     "data": {
      "text/plain": [
       "['scene-0061',\n",
       " 'scene-0553',\n",
       " 'scene-0655',\n",
       " 'scene-0757',\n",
       " 'scene-0796',\n",
       " 'scene-1077',\n",
       " 'scene-1094',\n",
       " 'scene-1100']"
      ]
     },
     "execution_count": 40,
     "metadata": {},
     "output_type": "execute_result"
    }
   ],
   "source": [
    "mini_train_scenes = scene_splits['mini_train']\n",
    "mini_train_scenes"
   ]
  },
  {
   "cell_type": "markdown",
   "id": "272b5a5a-932c-4ea3-a95a-19b3a1067c80",
   "metadata": {},
   "source": [
    "## Visualization"
   ]
  },
  {
   "cell_type": "code",
   "execution_count": 41,
   "id": "0bff1c5c-eb27-4af0-ad74-7e9049bb0eea",
   "metadata": {},
   "outputs": [],
   "source": [
    "# test_scene = nusc.scene[0]\n",
    "# first_sample_token = test_scene['first_sample_token']\n",
    "# my_sample = nusc.get('sample', first_sample_token)\n",
    "# lidar_top_data = nusc.get('sample_data', my_sample['data']['LIDAR_TOP'])"
   ]
  },
  {
   "cell_type": "code",
   "execution_count": 42,
   "id": "baa2002b-c432-49fc-a147-e001c6490adb",
   "metadata": {},
   "outputs": [],
   "source": [
    "# bin_path = os.path.join(nusc.dataroot, lidar_top_data['filename'])"
   ]
  },
  {
   "cell_type": "code",
   "execution_count": 43,
   "id": "15653661-fd08-489f-9361-cd0b5fad8b87",
   "metadata": {},
   "outputs": [],
   "source": [
    "# points = np.fromfile(bin_path, dtype=np.float32)\n",
    "# points = points.reshape(-1, 4) # (x, y, z, depth)\n",
    "# points = points[:, :-1]"
   ]
  },
  {
   "cell_type": "code",
   "execution_count": 44,
   "id": "203fae48-b43e-4bde-88d0-f280443316a3",
   "metadata": {},
   "outputs": [],
   "source": [
    "# pcd = o3d.geometry.PointCloud()\n",
    "# pcd.points = o3d.utility.Vector3dVector(points)\n",
    "\n",
    "# # Visualize using WebVisualizer\n",
    "# o3d.visualization.draw([pcd])"
   ]
  },
  {
   "cell_type": "markdown",
   "id": "5680ff5e-33d0-446c-8a86-08e71eea103d",
   "metadata": {},
   "source": [
    "## Helpers"
   ]
  },
  {
   "cell_type": "code",
   "execution_count": 45,
   "id": "23d49d8f-3a0d-4917-98cf-1c6828c50611",
   "metadata": {},
   "outputs": [],
   "source": [
    "def yaw_to_quaternion(yaw):\n",
    "    # Calculate half of the yaw angle\n",
    "    half_yaw = yaw * 0.5\n",
    "    \n",
    "    # Compute the quaternion components\n",
    "    w = math.cos(half_yaw)\n",
    "    x = 0.0\n",
    "    y = 0.0\n",
    "    z = math.sin(half_yaw)\n",
    "    \n",
    "    return [w, x, y, z]"
   ]
  },
  {
   "cell_type": "markdown",
   "id": "3516517b-7f9d-4710-b01d-e9b103ad9dc7",
   "metadata": {},
   "source": [
    "## Constants"
   ]
  },
  {
   "cell_type": "code",
   "execution_count": 46,
   "id": "3d42ec5a-bb32-4673-b694-bc59a8adfa29",
   "metadata": {},
   "outputs": [],
   "source": [
    "class_names = [\n",
    "    'car',\n",
    "    'truck',\n",
    "    'trailer',\n",
    "    'bus',\n",
    "    'construction_vehicle',\n",
    "    'bicycle',\n",
    "    'motorcycle',\n",
    "    'pedestrian',\n",
    "    'traffic_cone',\n",
    "    'barrier',\n",
    "]"
   ]
  },
  {
   "cell_type": "code",
   "execution_count": 47,
   "id": "37e0e51f-8b00-46a7-8fad-d404b4c4f6c1",
   "metadata": {},
   "outputs": [],
   "source": [
    "sensor = 'LIDAR_TOP'"
   ]
  },
  {
   "cell_type": "markdown",
   "id": "15018508-a033-46fb-8a75-2a5a0b7b76c5",
   "metadata": {},
   "source": [
    "## Perform Predictions"
   ]
  },
  {
   "cell_type": "code",
   "execution_count": 48,
   "id": "52350166-853c-4360-9380-b6a03c11ff22",
   "metadata": {},
   "outputs": [],
   "source": [
    "prediction_results = {\n",
    "    \"meta\": {\n",
    "        \"use_camera\": False,\n",
    "        \"use_lidar\": True,\n",
    "        \"use_radar\": False,\n",
    "        \"use_map\": False, \n",
    "        \"use_external\": False \n",
    "    },\n",
    "    \"results\": {}\n",
    "}"
   ]
  },
  {
   "cell_type": "code",
   "execution_count": 49,
   "id": "9115b0cb-bcaa-4417-a7b5-0f92ce9657b9",
   "metadata": {},
   "outputs": [],
   "source": [
    "# START_INDEX = 0\n",
    "# END_INDEX = 3"
   ]
  },
  {
   "cell_type": "code",
   "execution_count": 56,
   "id": "af1ed27f-244b-49ea-854c-f758474e6c88",
   "metadata": {},
   "outputs": [
    {
     "name": "stdout",
     "output_type": "stream",
     "text": [
      "scene-0061\n"
     ]
    },
    {
     "ename": "KeyError",
     "evalue": "'scene-0061'",
     "output_type": "error",
     "traceback": [
      "\u001b[0;31m---------------------------------------------------------------------------\u001b[0m",
      "\u001b[0;31mKeyError\u001b[0m                                  Traceback (most recent call last)",
      "Cell \u001b[0;32mIn[56], line 5\u001b[0m\n\u001b[1;32m      3\u001b[0m \u001b[38;5;28;01mfor\u001b[39;00m scene_name \u001b[38;5;129;01min\u001b[39;00m mini_train_scenes:\n\u001b[1;32m      4\u001b[0m     \u001b[38;5;28mprint\u001b[39m(scene_name)\n\u001b[0;32m----> 5\u001b[0m     test_scene \u001b[38;5;241m=\u001b[39m \u001b[43mnusc\u001b[49m\u001b[38;5;241;43m.\u001b[39;49m\u001b[43mget\u001b[49m\u001b[43m(\u001b[49m\u001b[38;5;124;43m'\u001b[39;49m\u001b[38;5;124;43mscene\u001b[39;49m\u001b[38;5;124;43m'\u001b[39;49m\u001b[43m,\u001b[49m\u001b[43m \u001b[49m\u001b[43mscene_name\u001b[49m\u001b[43m)\u001b[49m\n\u001b[1;32m      6\u001b[0m     first_sample_token \u001b[38;5;241m=\u001b[39m test_scene[\u001b[38;5;124m'\u001b[39m\u001b[38;5;124mfirst_sample_token\u001b[39m\u001b[38;5;124m'\u001b[39m]\n\u001b[1;32m      7\u001b[0m     my_sample \u001b[38;5;241m=\u001b[39m nusc\u001b[38;5;241m.\u001b[39mget(\u001b[38;5;124m'\u001b[39m\u001b[38;5;124msample\u001b[39m\u001b[38;5;124m'\u001b[39m, first_sample_token)\n",
      "File \u001b[0;32m~/anaconda3/envs/project/lib/python3.10/site-packages/nuscenes/nuscenes.py:216\u001b[0m, in \u001b[0;36mNuScenes.get\u001b[0;34m(self, table_name, token)\u001b[0m\n\u001b[1;32m    208\u001b[0m \u001b[38;5;250m\u001b[39m\u001b[38;5;124;03m\"\"\"\u001b[39;00m\n\u001b[1;32m    209\u001b[0m \u001b[38;5;124;03mReturns a record from table in constant runtime.\u001b[39;00m\n\u001b[1;32m    210\u001b[0m \u001b[38;5;124;03m:param table_name: Table name.\u001b[39;00m\n\u001b[1;32m    211\u001b[0m \u001b[38;5;124;03m:param token: Token of the record.\u001b[39;00m\n\u001b[1;32m    212\u001b[0m \u001b[38;5;124;03m:return: Table record. See README.md for record details for each table.\u001b[39;00m\n\u001b[1;32m    213\u001b[0m \u001b[38;5;124;03m\"\"\"\u001b[39;00m\n\u001b[1;32m    214\u001b[0m \u001b[38;5;28;01massert\u001b[39;00m table_name \u001b[38;5;129;01min\u001b[39;00m \u001b[38;5;28mself\u001b[39m\u001b[38;5;241m.\u001b[39mtable_names, \u001b[38;5;124m\"\u001b[39m\u001b[38;5;124mTable \u001b[39m\u001b[38;5;132;01m{}\u001b[39;00m\u001b[38;5;124m not found\u001b[39m\u001b[38;5;124m\"\u001b[39m\u001b[38;5;241m.\u001b[39mformat(table_name)\n\u001b[0;32m--> 216\u001b[0m \u001b[38;5;28;01mreturn\u001b[39;00m \u001b[38;5;28mgetattr\u001b[39m(\u001b[38;5;28mself\u001b[39m, table_name)[\u001b[38;5;28;43mself\u001b[39;49m\u001b[38;5;241;43m.\u001b[39;49m\u001b[43mgetind\u001b[49m\u001b[43m(\u001b[49m\u001b[43mtable_name\u001b[49m\u001b[43m,\u001b[49m\u001b[43m \u001b[49m\u001b[43mtoken\u001b[49m\u001b[43m)\u001b[49m]\n",
      "File \u001b[0;32m~/anaconda3/envs/project/lib/python3.10/site-packages/nuscenes/nuscenes.py:225\u001b[0m, in \u001b[0;36mNuScenes.getind\u001b[0;34m(self, table_name, token)\u001b[0m\n\u001b[1;32m    218\u001b[0m \u001b[38;5;28;01mdef\u001b[39;00m \u001b[38;5;21mgetind\u001b[39m(\u001b[38;5;28mself\u001b[39m, table_name: \u001b[38;5;28mstr\u001b[39m, token: \u001b[38;5;28mstr\u001b[39m) \u001b[38;5;241m-\u001b[39m\u001b[38;5;241m>\u001b[39m \u001b[38;5;28mint\u001b[39m:\n\u001b[1;32m    219\u001b[0m \u001b[38;5;250m    \u001b[39m\u001b[38;5;124;03m\"\"\"\u001b[39;00m\n\u001b[1;32m    220\u001b[0m \u001b[38;5;124;03m    This returns the index of the record in a table in constant runtime.\u001b[39;00m\n\u001b[1;32m    221\u001b[0m \u001b[38;5;124;03m    :param table_name: Table name.\u001b[39;00m\n\u001b[1;32m    222\u001b[0m \u001b[38;5;124;03m    :param token: Token of the record.\u001b[39;00m\n\u001b[1;32m    223\u001b[0m \u001b[38;5;124;03m    :return: The index of the record in table, table is an array.\u001b[39;00m\n\u001b[1;32m    224\u001b[0m \u001b[38;5;124;03m    \"\"\"\u001b[39;00m\n\u001b[0;32m--> 225\u001b[0m     \u001b[38;5;28;01mreturn\u001b[39;00m \u001b[38;5;28;43mself\u001b[39;49m\u001b[38;5;241;43m.\u001b[39;49m\u001b[43m_token2ind\u001b[49m\u001b[43m[\u001b[49m\u001b[43mtable_name\u001b[49m\u001b[43m]\u001b[49m\u001b[43m[\u001b[49m\u001b[43mtoken\u001b[49m\u001b[43m]\u001b[49m\n",
      "\u001b[0;31mKeyError\u001b[0m: 'scene-0061'"
     ]
    }
   ],
   "source": [
    "# for i in range(START_INDEX, END_INDEX):\n",
    "#     test_scene = nusc.scene[i]\n",
    "for scene_name in mini_train_scenes:\n",
    "    test_scene = nusc.get('scene', scene_name)\n",
    "    first_sample_token = test_scene['first_sample_token']\n",
    "    my_sample = nusc.get('sample', first_sample_token)\n",
    "    lidar_top_data = nusc.get('sample_data', my_sample['data'][sensor])\n",
    "\n",
    "    bin_path = os.path.join(nusc.dataroot, lidar_top_data['filename'])\n",
    "    results = inference_detector(model, bin_path)[0]\n",
    "\n",
    "    dict_key = f\"{first_sample_token}\"\n",
    "    arr = []\n",
    "    \n",
    "    n = len(results.pred_instances_3d.bboxes_3d)\n",
    "\n",
    "    for index in range(n):\n",
    "        box = results.pred_instances_3d.bboxes_3d[index]\n",
    "        score = results.pred_instances_3d.scores_3d[index]\n",
    "        label = results.pred_instances_3d.labels_3d[index]\n",
    "        detection_name = class_names[label]\n",
    "\n",
    "        box = box.tensor[0]\n",
    "        box = box.cpu().numpy().tolist()\n",
    "\n",
    "        score = score.cpu().numpy().tolist()\n",
    "        \n",
    "        prediction_object = {\n",
    "            'sample_token': first_sample_token,\n",
    "            'translation': box[0:3],  # Center of 3D box\n",
    "            'size': box[3:6],  # Dimensions of 3D box\n",
    "            'rotation': yaw_to_quaternion(box[6]),  # Rotation as quaternion\n",
    "            'velocity': box[7:],  # vx, vy\n",
    "            'detection_name': detection_name,  # e.g., 'car', 'pedestrian'\n",
    "            'detection_score': score,  # Between 0 and 1\n",
    "            'attribute_name': \"\"\n",
    "        }\n",
    "\n",
    "        arr.append(prediction_object)\n",
    "\n",
    "    prediction_results[\"results\"][dict_key] = arr"
   ]
  },
  {
   "cell_type": "code",
   "execution_count": null,
   "id": "3a609bc3-d95b-44a7-9356-0bb703f07e43",
   "metadata": {},
   "outputs": [],
   "source": [
    "with open('results.json', 'w') as fp:\n",
    "    json.dump(prediction_results, fp)"
   ]
  },
  {
   "cell_type": "markdown",
   "id": "fbecf8b9-5518-4314-b753-442592484fe5",
   "metadata": {},
   "source": [
    "## Perform Evaluation"
   ]
  },
  {
   "cell_type": "code",
   "execution_count": null,
   "id": "dd15ba21-15c4-47d7-8982-ecde21960c00",
   "metadata": {},
   "outputs": [],
   "source": [
    "with open('detection_cvpr_2019.json', 'r') as fp:\n",
    "    config_str = json.load(fp)"
   ]
  },
  {
   "cell_type": "code",
   "execution_count": null,
   "id": "14b4d572-f85c-4f0f-b1c8-56699ab99fee",
   "metadata": {},
   "outputs": [],
   "source": [
    "# dot notation doesn't work on dictionaries, only objects\n",
    "detection_config = DetectionConfig(\n",
    "    class_range = config_str[\"class_range\"],\n",
    "    dist_fcn = config_str[\"dist_fcn\"],\n",
    "    dist_ths = config_str[\"dist_ths\"],\n",
    "    dist_th_tp = config_str[\"dist_th_tp\"],\n",
    "    min_recall = config_str[\"min_recall\"],\n",
    "    min_precision = config_str[\"min_precision\"],\n",
    "    max_boxes_per_sample = config_str[\"max_boxes_per_sample\"],\n",
    "    mean_ap_weight = config_str[\"mean_ap_weight\"]\n",
    ")"
   ]
  },
  {
   "cell_type": "code",
   "execution_count": null,
   "id": "ddc3f885-027c-4c15-8857-dfed83cd01fd",
   "metadata": {},
   "outputs": [],
   "source": [
    "evaluator = NuScenesEval(nusc,\n",
    "                         config=detection_config,\n",
    "                         eval_set='mini_val',\n",
    "                         result_path=\"results.json\",\n",
    "                         output_dir='outputs/')"
   ]
  },
  {
   "cell_type": "code",
   "execution_count": null,
   "id": "ffe24e30-501a-47f5-b803-87d8097c5d04",
   "metadata": {},
   "outputs": [],
   "source": []
  }
 ],
 "metadata": {
  "kernelspec": {
   "display_name": "project",
   "language": "python",
   "name": "project"
  },
  "language_info": {
   "codemirror_mode": {
    "name": "ipython",
    "version": 3
   },
   "file_extension": ".py",
   "mimetype": "text/x-python",
   "name": "python",
   "nbconvert_exporter": "python",
   "pygments_lexer": "ipython3",
   "version": "3.10.15"
  }
 },
 "nbformat": 4,
 "nbformat_minor": 5
}
